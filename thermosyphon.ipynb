{
 "cells": [
  {
   "cell_type": "code",
   "execution_count": 1,
   "metadata": {},
   "outputs": [],
   "source": [
    "import numpy as np\n",
    "from CoolProp.CoolProp import PropsSI\n"
   ]
  },
  {
   "cell_type": "markdown",
   "metadata": {},
   "source": [
    "### Specify Parameters"
   ]
  },
  {
   "cell_type": "code",
   "execution_count": 2,
   "metadata": {},
   "outputs": [],
   "source": [
    "# tsp=thermosyphon\n",
    "Nt=9\n",
    "l_e= 0.45 # evaporator tsp len\n",
    "l_a=0.1 # adiabatic tsp len\n",
    "l_c=0.45 # condenser tsp len\n",
    "tsp_od=9.5/1000\n",
    "tsp_thick=1/1000\n",
    "PT=15/1000 #tube pitch\n",
    "F=70/100 #filling ratio\n",
    "\n",
    "\n",
    "B=86/1000 #baffle spacing\n",
    "shell_inlet_dia=25.4/1000\n",
    "shell_id=99.6/1000\n",
    "\n",
    "m = 4/60 #  L/min to kg/s\n",
    "Ti_e=100 #°C\n",
    "Ti_c=20 #°C\n",
    "To_e=60 # assume\n",
    "To_c=40 # assume\n",
    "q_hx=5000\n",
    "q_e=q_hx #heat flux\n",
    "q_c=q_hx\n",
    "k_ss=16.2 # W/mK\n",
    "k_ms=50 "
   ]
  },
  {
   "cell_type": "markdown",
   "metadata": {},
   "source": [
    "### Calculate Primary parameters"
   ]
  },
  {
   "cell_type": "code",
   "execution_count": 3,
   "metadata": {},
   "outputs": [],
   "source": [
    "tsp_id=tsp_od-tsp_thick*2\n",
    "#hydraulic dia\n",
    "Dhs=4*PT**2/(np.pi*tsp_od)-tsp_od\n",
    "#Shell inside dia\n",
    "Ds=shell_id\n",
    "#Clearance\n",
    "C=PT-tsp_od\n",
    "#Bundle cross flow area\n",
    "As=Ds*C*B/PT\n",
    "\n",
    "\n"
   ]
  },
  {
   "cell_type": "code",
   "execution_count": 4,
   "metadata": {},
   "outputs": [
    {
     "name": "stdout",
     "output_type": "stream",
     "text": [
      "Vapor Temperature, Tv = 46.56270354518455\n"
     ]
    }
   ],
   "source": [
    "Cp_e = PropsSI('C', 'T', Ti_e + 273.15, 'P', 101325, 'Water')  # Specific heat capacity (J/(kg·K))\n",
    "Cp_c = PropsSI('C', 'T', Ti_c + 273.15, 'P', 101325, 'Water')  # Specific heat capacity (J/(kg·K))\n",
    "\n",
    "Tv=(Ti_e*Cp_e+Ti_c*Cp_c)/(Cp_e+Cp_c)\n",
    "print(f\"Vapor Temperature, Tv = {Tv}\")"
   ]
  },
  {
   "cell_type": "markdown",
   "metadata": {},
   "source": [
    "### Evaporator"
   ]
  },
  {
   "cell_type": "code",
   "execution_count": 5,
   "metadata": {},
   "outputs": [
    {
     "name": "stdout",
     "output_type": "stream",
     "text": [
      "Properites of Water at 46.56270354518455 °C:\n",
      "\tρ_l = 989.5504498046275 kg/m³\n",
      "\tρ_v = 0.07068439736441362 kg/m³\n",
      "\tμ = 0.0005796176375624808 Pa·s\n",
      "\tPr = 3.805937637132946\n",
      "\tk = 0.6366562477141507\n",
      "Vapor Pressure, Pv = 10393.187046845764\n",
      "Latent heat of vaporization, h_lv = 2390233.2624841817\n"
     ]
    }
   ],
   "source": [
    "fluid = \"Water\"\n",
    "temperature = Tv + 273.15  # Convert °C to K\n",
    "pressure = 101325  # Pressure in Pa (1 atm)\n",
    "\n",
    "#properties\n",
    "rho_l = PropsSI('D', 'T', temperature, 'P', pressure, fluid)  # Density in kg/m³\n",
    "rho_v = PropsSI('D', 'T', temperature, 'Q', 1, fluid)  # Density in kg/m³ (Q=1 means saturated vapor)\n",
    "mu = PropsSI('V', 'T', temperature, 'P', pressure, fluid)  # Dynamic viscosity (Pa·s)\n",
    "Cp = PropsSI('C', 'T', temperature, 'P', pressure, fluid)  # Specific heat capacity (J/(kg·K))\n",
    "k = PropsSI('L', 'T', temperature, 'P', pressure, fluid)  # Thermal conductivity (W/(m·K))\n",
    "Pr=PropsSI('PRANDTL', 'T', temperature, 'P', pressure, fluid) # Prandtl Number\n",
    "P_v = PropsSI('P', 'T', temperature, 'Q', 0, fluid)  # 'Q=0' means saturated liquid\n",
    "h_lv = PropsSI('H', 'T', temperature, 'Q', 1, fluid) - PropsSI('H', 'T', temperature, 'Q', 0, fluid)\n",
    "\n",
    "\n",
    "\n",
    "print(f\"Properites of {fluid} at {Tv} °C:\")\n",
    "print(f\"\\tρ_l = {rho_l} kg/m³\")\n",
    "print(f\"\\tρ_v = {rho_v} kg/m³\")\n",
    "print(f\"\\tμ = {mu} Pa·s\")\n",
    "print(f\"\\tPr = {Pr}\")\n",
    "print(f\"\\tk = {k}\")\n",
    "print(f\"Vapor Pressure, Pv = {P_v}\")\n",
    "print(f\"Latent heat of vaporization, h_lv = {h_lv}\")\n",
    "\n"
   ]
  },
  {
   "cell_type": "code",
   "execution_count": 6,
   "metadata": {},
   "outputs": [
    {
     "name": "stdout",
     "output_type": "stream",
     "text": [
      "Evaporator Shell Side Velocity, Vs = 0.02145070549348493\n",
      "Renolds Number, Re_s = 756.4448788945504\n",
      "Nusselt Number, Nu = 21.53362924164969\n",
      "Heat transfer coefficient, h_ex_e = 663.716902791145\n",
      "Forced convection resistance over Evaporator, R1 = 0.012464894896431341\n",
      "Radial heat conduction resistance through Evaporator wall, R2 = 0.005160828877966428\n",
      "Boiling thermal resistance, R3 = 2.3613973322893273e-05\n",
      "Evaporator Resistance, R_e = 0.017649337747720664\n"
     ]
    }
   ],
   "source": [
    "Vs=m/(rho_l*As)\n",
    "print(f\"Evaporator Shell Side Velocity, Vs = {Vs}\")\n",
    "\n",
    "Re_s=Vs*Dhs*rho_l/mu\n",
    "print(f\"Renolds Number, Re_s = {Re_s}\")\n",
    "\n",
    "Nu = 0.36*pow(Re_s,0.55)*pow(Pr,1/3)\n",
    "print(f\"Nusselt Number, Nu = {Nu}\")\n",
    "\n",
    "#coefficient of external heat transer in evaporator\n",
    "h_ex_e=Nu*k/Dhs\n",
    "print(f\"Heat transfer coefficient, h_ex_e = {h_ex_e}\")\n",
    "A_e=np.pi*tsp_od*l_e*Nt\n",
    "# Convection resistance in hot fluid\n",
    "R1=1/(h_ex_e*A_e)\n",
    "print(f\"Forced convection resistance over Evaporator, R1 = {R1}\")\n",
    "\n",
    "r_e=tsp_od/2\n",
    "r_i=r_e-tsp_thick\n",
    "R2=np.log(r_e/r_i)/(2*np.pi*k_ss*l_e)\n",
    "print(f\"Radial heat conduction resistance through Evaporator wall, R2 = {R2}\")\n",
    "\n",
    "phi2=pow(h_lv*k*(rho_l**0.5)/mu,0.25)*(pow(rho_l,0.65)*pow(k,0.3)*pow(Cp,0.7))/(pow(rho_v,0.25)*pow(h_lv,0.4)*pow(mu,0.7))\n",
    "phi3=pow(P_v/101325,0.23)*(pow(rho_l,0.65)*pow(k,0.3)*pow(Cp_e,0.7))/(pow(rho_v,0.25)*pow(h_lv,0.4)*pow(mu,0.7))\n",
    "#thermal resistance associated to pool boiling\n",
    "R3p=1/((9.81**0.2)*phi3*(q_e**0.4)*pow(np.pi*tsp_id*l_e,0.6))\n",
    "#thermal resistance associated to falling film located above the evaporator pool\n",
    "R3f=0.345*pow(q_e,1/3)/(pow(tsp_id,4/3)*pow(9.81,1/3)*l_e*pow(phi2,4/3))\n",
    "R3=R3p*F+(1-F)*R3f\n",
    "print(f\"Boiling thermal resistance, R3 = {R3}\")\n",
    "\n",
    "R_e=R1+R2+R3\n",
    "print(f\"Evaporator Resistance, R_e = {R_e}\")"
   ]
  },
  {
   "cell_type": "markdown",
   "metadata": {},
   "source": [
    "### Condenser"
   ]
  },
  {
   "cell_type": "code",
   "execution_count": 7,
   "metadata": {},
   "outputs": [
    {
     "name": "stdout",
     "output_type": "stream",
     "text": [
      "Properites of Water at 46.56270354518455 °C:\n",
      "\tρ_l = 989.5504498046275 kg/m³\n",
      "\tρ_v = 0.07068439736441362 kg/m³\n",
      "\tμ = 0.0005796176375624808 Pa·s\n",
      "\tPr = 3.805937637132946\n",
      "\tk = 0.6366562477141507\n",
      "Vapor Pressure, Pv = 10393.187046845764\n",
      "Latent heat of condensation, h_lv = 2390233.2624841817\n"
     ]
    }
   ],
   "source": [
    "fluid = \"Water\"\n",
    "temperature = Tv + 273.15  # Convert °C to K\n",
    "pressure = 101325  # Pressure in Pa (1 atm)\n",
    "\n",
    "#properties\n",
    "rho_l = PropsSI('D', 'T', temperature, 'P', pressure, fluid)  # Density in kg/m³\n",
    "rho_v = PropsSI('D', 'T', temperature, 'Q', 1, fluid)  # Density in kg/m³ (Q=1 means saturated vapor)\n",
    "mu = PropsSI('V', 'T', temperature, 'P', pressure, fluid)  # Dynamic viscosity (Pa·s)\n",
    "Cp_c = PropsSI('C', 'T', temperature, 'P', pressure, fluid)  # Specific heat capacity (J/(kg·K))\n",
    "k = PropsSI('L', 'T', temperature, 'P', pressure, fluid)  # Thermal conductivity (W/(m·K))\n",
    "Pr=PropsSI('PRANDTL', 'T', temperature, 'P', pressure, fluid) # Prandtl Number\n",
    "P_v = PropsSI('P', 'T', temperature, 'Q', 0, fluid)  # 'Q=0' means saturated liquid\n",
    "h_lv = PropsSI('H', 'T', temperature, 'Q', 1, fluid) - PropsSI('H', 'T', temperature, 'Q', 0, fluid)\n",
    "\n",
    "\n",
    "\n",
    "print(f\"Properites of {fluid} at {Tv} °C:\")\n",
    "print(f\"\\tρ_l = {rho_l} kg/m³\")\n",
    "print(f\"\\tρ_v = {rho_v} kg/m³\")\n",
    "print(f\"\\tμ = {mu} Pa·s\")\n",
    "print(f\"\\tPr = {Pr}\")\n",
    "print(f\"\\tk = {k}\")\n",
    "print(f\"Vapor Pressure, Pv = {P_v}\")\n",
    "print(f\"Latent heat of condensation, h_lv = {h_lv}\")\n",
    "\n"
   ]
  },
  {
   "cell_type": "code",
   "execution_count": 8,
   "metadata": {},
   "outputs": [
    {
     "name": "stdout",
     "output_type": "stream",
     "text": [
      "Condenser Shell Side Velocity, Vs = 0.02145070549348493\n",
      "Renolds Number, Re_s = 756.4448788945504\n",
      "Nusselt Number, Nu = 21.53362924164969\n",
      "Convection Heat transfer coefficient, h_ex_c = 663.716902791145\n",
      "Forced convection resistance over Condenser, R9 = 0.012464894896431341\n",
      "Radial heat conduction resistance through Condenser wall, R8 = 0.005160828877966428\n",
      "Condensation thermal resistance, R7 = 1.2053343649631534e-06\n",
      "Condenser Resistance, R_c = 0.017649337747720664\n"
     ]
    }
   ],
   "source": [
    "Vs=m/(rho_l*As)\n",
    "print(f\"Condenser Shell Side Velocity, Vs = {Vs}\")\n",
    "\n",
    "Re_s=Vs*Dhs*rho_l/mu\n",
    "print(f\"Renolds Number, Re_s = {Re_s}\")\n",
    "\n",
    "Nu = 0.36*pow(Re_s,0.55)*pow(Pr,1/3)\n",
    "print(f\"Nusselt Number, Nu = {Nu}\")\n",
    "\n",
    "#coefficient of external heat transer in evaporator\n",
    "h_ex_c=Nu*k/Dhs\n",
    "print(f\"Convection Heat transfer coefficient, h_ex_c = {h_ex_c}\")\n",
    "A_c=np.pi*tsp_od*l_c*Nt\n",
    "# Convection resistance in hot fluid\n",
    "R9=1/(h_ex_c*A_c)\n",
    "print(f\"Forced convection resistance over Condenser, R9 = {R9}\")\n",
    "\n",
    "r_e=tsp_od/2\n",
    "r_i=r_e-tsp_thick\n",
    "R8=np.log(r_e/r_i)/(2*np.pi*k_ss*l_c)\n",
    "print(f\"Radial heat conduction resistance through Condenser wall, R8 = {R8}\")\n",
    "\n",
    "phi2=pow(h_lv*k*(rho_l**0.5)/mu,0.25)*(pow(rho_l,0.65)*pow(k,0.3)*pow(Cp_c,0.7))/(pow(rho_v,0.25)*pow(h_lv,0.4)*pow(mu,0.7))\n",
    "R7=0.345*pow(q_c,1/3)/(pow(tsp_id,4/3)*pow(9.81,1/3)*l_c*pow(phi2,4/3))\n",
    "print(f\"Condensation thermal resistance, R7 = {R7}\")\n",
    "\n",
    "R_c=R1+R2+R3\n",
    "print(f\"Condenser Resistance, R_c = {R_c}\")\n"
   ]
  },
  {
   "cell_type": "code",
   "execution_count": 9,
   "metadata": {},
   "outputs": [
    {
     "name": "stdout",
     "output_type": "stream",
     "text": [
      "Total thermal resistance, R_total = 0.03529867549544133\n"
     ]
    }
   ],
   "source": [
    "R_total=R_e+R_c\n",
    "print(f\"Total thermal resistance, R_total = {R_total}\")"
   ]
  },
  {
   "cell_type": "code",
   "execution_count": 10,
   "metadata": {},
   "outputs": [],
   "source": [
    "q_th=q_hx/Nt\n",
    "Tw_e = Tv + (R2+R3)*q_th\n",
    "Tw_c = Tv - (R7+R9)*q_th\n",
    "Tavg_e=Tv-(((Tv-Ti_e)-(Tv-To_e))/np.log((Tv-Ti_e)/(Tv-To_e)))\n",
    "Tavg_c=Tv-(((Tv-Ti_c)-(Tv-To_c))/np.log((Tv-Ti_c)/(Tv-To_c)))\n",
    "q_e=(Tavg_e-Tv)/R_e\n",
    "q_c=(Tavg_c-Tv)/R_c"
   ]
  },
  {
   "cell_type": "markdown",
   "metadata": {},
   "source": [
    "## Optimization "
   ]
  },
  {
   "cell_type": "code",
   "execution_count": 11,
   "metadata": {},
   "outputs": [
    {
     "data": {
      "text/plain": [
       "1.493694793888157"
      ]
     },
     "execution_count": 11,
     "metadata": {},
     "output_type": "execute_result"
    }
   ],
   "source": [
    "#tolerance\n",
    "alpha=abs(1-q_c/q_e)\n",
    "alpha"
   ]
  },
  {
   "cell_type": "code",
   "execution_count": 12,
   "metadata": {},
   "outputs": [
    {
     "name": "stdout",
     "output_type": "stream",
     "text": [
      "iteration 0: α = 13.402843162616485% q_hx = 1226.1256341927294\n",
      "iteration 1: α = 2.6221692701912325% q_hx = 1195.8345011974961\n",
      "iteration 2: α = 0.5396020394748291% q_hx = 1206.3969456325203\n",
      "iteration 3: α = 0.10986409791885476% q_hx = 1204.385391852789\n",
      "iteration 4: α = 0.02241690136608465% q_hx = 1204.8019667542706\n"
     ]
    }
   ],
   "source": [
    "i=0\n",
    "while(alpha>0.1/100 and i<50):\n",
    "    Tv=(R_c*Tavg_e+R_e*Tavg_c)/(R_e+R_c)\n",
    "    q_hx=(Tavg_e-Tavg_c)/R_total\n",
    "    q_th=q_hx/Nt\n",
    "    Tw_e = Tv + (R2+R3)*q_th\n",
    "    Tw_c = Tv - (R7+R9)*q_th\n",
    "    Tavg_e=Tv-(((Tv-Ti_e)-(Tv-To_e))/np.log((Tv-Ti_e)/(Tv-To_e)))\n",
    "    Tavg_c=Tv-(((Tv-Ti_c)-(Tv-To_c))/np.log((Tv-Ti_c)/(Tv-To_c)))\n",
    "    q_e=(Tavg_e-Tv)/R_e\n",
    "    q_c=(Tv-Tavg_c)/R_c\n",
    "    alpha=abs(1-q_c/q_e)\n",
    "    print(f'iteration {i}: α = {alpha*100}% q_hx = {q_hx}')\n",
    "    i+=1\n",
    "\n",
    "\n",
    "\n"
   ]
  },
  {
   "cell_type": "code",
   "execution_count": 14,
   "metadata": {},
   "outputs": [],
   "source": [
    "To_e_new=Ti_e-q_hx/(m*Cp_e)\n",
    "To_c_new=Ti_c+q_hx/(m*Cp_c)\n"
   ]
  },
  {
   "cell_type": "code",
   "execution_count": 16,
   "metadata": {},
   "outputs": [
    {
     "name": "stdout",
     "output_type": "stream",
     "text": [
      "Evaporator Outlet Temperature: 91.31075249967779\n",
      "Condensor Outlet Temperature: 24.32296626235573\n"
     ]
    }
   ],
   "source": [
    "\n",
    "print(f\"Evaporator Outlet Temperature: {To_e_new}\")\n",
    "\n",
    "print(f\"Condensor Outlet Temperature: {To_c_new}\")"
   ]
  },
  {
   "cell_type": "code",
   "execution_count": null,
   "metadata": {},
   "outputs": [],
   "source": []
  }
 ],
 "metadata": {
  "kernelspec": {
   "display_name": "Python 3",
   "language": "python",
   "name": "python3"
  },
  "language_info": {
   "codemirror_mode": {
    "name": "ipython",
    "version": 3
   },
   "file_extension": ".py",
   "mimetype": "text/x-python",
   "name": "python",
   "nbconvert_exporter": "python",
   "pygments_lexer": "ipython3",
   "version": "3.11.6"
  }
 },
 "nbformat": 4,
 "nbformat_minor": 2
}
