{
 "cells": [
  {
   "cell_type": "code",
   "execution_count": 28,
   "metadata": {},
   "outputs": [],
   "source": [
    "import numpy as np\n",
    "import CoolProp.CoolProp as CP\n"
   ]
  },
  {
   "cell_type": "markdown",
   "metadata": {},
   "source": [
    "### Specify Parameters"
   ]
  },
  {
   "cell_type": "code",
   "execution_count": 29,
   "metadata": {},
   "outputs": [],
   "source": [
    "# tsp for thermosyphon\n",
    "l_e= 0.51 # evaporator tsp len\n",
    "l_a=0.2 # evaporator tsp len\n",
    "l_c=0.51 # condenserr tsp len\n",
    "tsp_od=9.55/1000\n",
    "tsp_thick=0.89/1000\n",
    "inlet_dia=60/1000\n",
    "m = 3.8/60 # 3.8 L/min to kg/s\n",
    "k_ss=16.2 # W/mK\n"
   ]
  },
  {
   "cell_type": "markdown",
   "metadata": {},
   "source": [
    "### Calculate Primary parameters"
   ]
  },
  {
   "cell_type": "code",
   "execution_count": 30,
   "metadata": {},
   "outputs": [],
   "source": [
    "l_ef=l_e/2+l_a+l_c/2 # effective length"
   ]
  },
  {
   "cell_type": "markdown",
   "metadata": {},
   "source": [
    "### Evaporator"
   ]
  },
  {
   "cell_type": "code",
   "execution_count": 31,
   "metadata": {},
   "outputs": [
    {
     "name": "stdout",
     "output_type": "stream",
     "text": [
      "Properites of Water at 85.0 °C:\n",
      "Density: 968.6114401082684 kg/m³\n",
      "Viscosity: 0.0003330754563272273 Pa·s\n",
      "Prandtl Number: 2.088096210424027\n",
      "Thermal Conductivity: 0.6700671488300696\n"
     ]
    }
   ],
   "source": [
    "T_inf_e=100 #°C\n",
    "T_s_e=70 #°C\n",
    "T_f=(T_s_e+T_inf_e)/2\n",
    "\n",
    "fluid = \"Water\"\n",
    "temperature = T_f + 273.15  # Convert °C to Kelvin\n",
    "pressure = 101325  # Pressure in Pa (1 atm)\n",
    "\n",
    "#properties\n",
    "density = CP.PropsSI('D', 'T', temperature, 'P', pressure, fluid)  # Density in kg/m³\n",
    "viscosity = CP.PropsSI('V', 'T', temperature, 'P', pressure, fluid)  # Dynamic viscosity (Pa·s)\n",
    "C = CP.PropsSI('C', 'T', temperature, 'P', pressure, fluid)  # Specific heat capacity (J/(kg·K))\n",
    "k = CP.PropsSI('L', 'T', temperature, 'P', pressure, fluid)  # Thermal conductivity (W/(m·K))\n",
    "Pr=CP.PropsSI('PRANDTL', 'T', temperature, 'P', pressure, fluid) # Prandtl Number\n",
    "\n",
    "print(f\"Properites of {fluid} at {T_f} °C:\")\n",
    "print(f\"Density: {density} kg/m³\")\n",
    "print(f\"Viscosity: {viscosity} Pa·s\")\n",
    "print(f\"Prandtl Number: {Pr}\")\n",
    "print(f\"Thermal Conductivity: {k}\")\n",
    "\n"
   ]
  },
  {
   "cell_type": "code",
   "execution_count": 32,
   "metadata": {},
   "outputs": [
    {
     "name": "stdout",
     "output_type": "stream",
     "text": [
      "Hot Water Velocity: 0.02312545945234761\n",
      "Renolds Number: 642.2449589332427\n",
      "Nusselt Number: 19.325624934451945\n",
      "heat transfer coefficient, h_ex_e: 1355.96506797775\n",
      "R_ex_hs: 0.048197895765966316\n",
      "R_cond: 0.003973498873512054\n"
     ]
    }
   ],
   "source": [
    "u=m/(density*np.pi/4*inlet_dia**2)\n",
    "print(f\"Hot Water Velocity: {u}\")\n",
    "\n",
    "Re=density*u*tsp_od/viscosity\n",
    "print(f\"Renolds Number: {Re}\")\n",
    "\n",
    "# Churchil and Bernstein\n",
    "Nu = 0.3 + 0.62*pow(Re,0.5)*pow(Pr,1/3)/pow(1+pow(0.4/Pr,2/3),1/4)*pow(1+pow(Re/282000,5/8),4/5)\n",
    "print(f\"Nusselt Number: {Nu}\")\n",
    "\n",
    "#coefficient of external heat transer in evaporator\n",
    "h_ex_e=Nu*k/tsp_od\n",
    "print(f\"heat transfer coefficient, h_ex_e: {h_ex_e}\")\n",
    "\n",
    "A_e=np.pi*tsp_od*l_e\n",
    "# Convection resistance in hot fluid\n",
    "R_ex_hs=1/(h_ex_e*A_e)\n",
    "print(f\"R_ex_hs: {R_ex_hs}\")\n",
    "\n",
    "r_e=tsp_od/2\n",
    "r_i=r_e-tsp_thick\n",
    "R_cond_e=np.log(r_e/r_i)/(2*np.pi*k_ss*l_e)\n",
    "print(f\"R_cond: {R_cond_e}\")\n"
   ]
  },
  {
   "cell_type": "markdown",
   "metadata": {},
   "source": [
    "### Condenser"
   ]
  },
  {
   "cell_type": "code",
   "execution_count": 33,
   "metadata": {},
   "outputs": [
    {
     "name": "stdout",
     "output_type": "stream",
     "text": [
      "Properites of Water at 30.0 °C:\n",
      "Density: 995.6494539376417 kg/m³\n",
      "Viscosity: 0.0007972217998101543 Pa·s\n",
      "Prandtl Number: 5.4236420311135705\n",
      "Thermal Conductivity: 0.6143922004176029\n"
     ]
    }
   ],
   "source": [
    "T_inf_c=20 #°C\n",
    "T_s_c=40 #°C ASSUME\n",
    "T_f=(T_s_c+T_inf_c)/2\n",
    "\n",
    "fluid = \"Water\"\n",
    "temperature = T_f + 273.15  # Convert °C to Kelvin\n",
    "pressure = 101325  # Pressure in Pa (1 atm)\n",
    "\n",
    "#properties\n",
    "density = CP.PropsSI('D', 'T', temperature, 'P', pressure, fluid)  # Density in kg/m³\n",
    "viscosity = CP.PropsSI('V', 'T', temperature, 'P', pressure, fluid)  # Dynamic viscosity (Pa·s)\n",
    "C = CP.PropsSI('C', 'T', temperature, 'P', pressure, fluid)  # Specific heat capacity (J/(kg·K))\n",
    "k = CP.PropsSI('L', 'T', temperature, 'P', pressure, fluid)  # Thermal conductivity (W/(m·K))\n",
    "Pr=CP.PropsSI('PRANDTL', 'T', temperature, 'P', pressure, fluid) # Prandtl Number\n",
    "\n",
    "print(f\"Properites of {fluid} at {T_f} °C:\")\n",
    "print(f\"Density: {density} kg/m³\")\n",
    "print(f\"Viscosity: {viscosity} Pa·s\")\n",
    "print(f\"Prandtl Number: {Pr}\")\n",
    "print(f\"Thermal Conductivity: {k}\")\n",
    "\n"
   ]
  },
  {
   "cell_type": "code",
   "execution_count": 34,
   "metadata": {},
   "outputs": [
    {
     "name": "stdout",
     "output_type": "stream",
     "text": [
      "Cold Water Velocity: 0.022497460822899912\n",
      "Renolds Number: 268.3268731756857\n",
      "Nusselt Number: 17.612537295725822\n",
      "heat transfer coefficient, h_ex_c: 1133.0895857652445\n",
      "R_ex_hs: 0.048197895765966316\n",
      "R_cond: 0.003973498873512054\n"
     ]
    }
   ],
   "source": [
    "u=m/(density*np.pi/4*inlet_dia**2)\n",
    "print(f\"Cold Water Velocity: {u}\")\n",
    "\n",
    "Re=density*u*tsp_od/viscosity\n",
    "print(f\"Renolds Number: {Re}\")\n",
    "\n",
    "# Churchil and Bernstein\n",
    "Nu = 0.3 + 0.62*pow(Re,0.5)*pow(Pr,1/3)/pow(1+pow(0.4/Pr,2/3),1/4)*pow(1+pow(Re/282000,5/8),4/5)\n",
    "print(f\"Nusselt Number: {Nu}\")\n",
    "\n",
    "#coefficient of external heat transer in condenser\n",
    "h_ex_c=Nu*k/tsp_od\n",
    "print(f\"heat transfer coefficient, h_ex_c: {h_ex_c}\")\n",
    "\n",
    "A_c=np.pi*tsp_od*l_c\n",
    "# Convection resistance in cold fluid\n",
    "R_ex_cs=1/(h_ex_e*A_c)\n",
    "print(f\"R_ex_hs: {R_ex_cs}\")\n",
    "\n",
    "r_e=tsp_od/2\n",
    "r_i=r_e-tsp_thick\n",
    "R_cond_c=np.log(r_e/r_i)/(2*np.pi*k_ss*l_e)\n",
    "print(f\"R_cond: {R_cond_c}\")\n"
   ]
  },
  {
   "cell_type": "code",
   "execution_count": 53,
   "metadata": {},
   "outputs": [
    {
     "name": "stdout",
     "output_type": "stream",
     "text": [
      "Based on assumption, q: 287.5138781252633\n"
     ]
    }
   ],
   "source": [
    "# Overal Resistance\n",
    "R_o=R_ex_hs+R_cond_e+R_cond_c+R_ex_cs\n",
    "\n",
    "q=(T_s_e-T_s_c)/R_o\n",
    "print(f\"Based on assumption, q: {q}\")\n"
   ]
  },
  {
   "cell_type": "markdown",
   "metadata": {},
   "source": [
    "### Thermal Resistance of Evaporator Pool"
   ]
  },
  {
   "cell_type": "code",
   "execution_count": null,
   "metadata": {},
   "outputs": [],
   "source": [
    "# Pool Parameter\n",
    "Chi"
   ]
  }
 ],
 "metadata": {
  "kernelspec": {
   "display_name": "Python 3",
   "language": "python",
   "name": "python3"
  },
  "language_info": {
   "codemirror_mode": {
    "name": "ipython",
    "version": 3
   },
   "file_extension": ".py",
   "mimetype": "text/x-python",
   "name": "python",
   "nbconvert_exporter": "python",
   "pygments_lexer": "ipython3",
   "version": "3.11.6"
  }
 },
 "nbformat": 4,
 "nbformat_minor": 2
}
