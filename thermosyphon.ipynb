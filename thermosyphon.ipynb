{
 "cells": [
  {
   "cell_type": "markdown",
   "metadata": {},
   "source": [
    "### Import Modules"
   ]
  },
  {
   "cell_type": "code",
   "execution_count": 110,
   "metadata": {},
   "outputs": [],
   "source": [
    "import numpy as np\n",
    "from CoolProp.CoolProp import PropsSI\n"
   ]
  },
  {
   "cell_type": "markdown",
   "metadata": {},
   "source": [
    "### Specify Parameters"
   ]
  },
  {
   "cell_type": "code",
   "execution_count": 111,
   "metadata": {},
   "outputs": [],
   "source": [
    "# tsp=thermosyphon\n",
    "Nt=9\n",
    "l_e= 0.45 # evaporator tsp len\n",
    "l_a=0.1 # adiabatic tsp len\n",
    "l_c=0.45 # condenser tsp len\n",
    "tsp_od=9.5/1000\n",
    "tsp_thick=1/1000\n",
    "PT=15/1000 #tube pitch\n",
    "F=70/100 #filling ratio\n",
    "\n",
    "\n",
    "B=86/1000 #baffle spacing\n",
    "shell_inlet_dia=25.4/1000\n",
    "shell_id=99.6/1000\n",
    "\n",
    "m = 4/60 # L/min to kg/s\n",
    "Ti_e=90 #°C\n",
    "Ti_c=20 #°C\n",
    "To_e=80 # assume\n",
    "To_c=30 # assume\n",
    "q_hx=5000 # assume\n",
    "q_e=q_hx #heat flux\n",
    "q_c=q_hx\n",
    "k_ss=16.2 # W/mK\n",
    "k_ms=50 "
   ]
  },
  {
   "cell_type": "markdown",
   "metadata": {},
   "source": [
    "### Calculate Primary parameters"
   ]
  },
  {
   "cell_type": "code",
   "execution_count": 112,
   "metadata": {},
   "outputs": [],
   "source": [
    "tsp_id=tsp_od-tsp_thick*2\n",
    "Dhs=4*PT**2/(np.pi*tsp_od)-tsp_od #hydraulic dia\n",
    "Ds=shell_id #Shell inside dia\n",
    "C=PT-tsp_od #Clearance\n",
    "As=Ds*C*B/PT #Bundle cross flow area\n"
   ]
  },
  {
   "cell_type": "markdown",
   "metadata": {},
   "source": [
    "### Initial guess of vapour temperature"
   ]
  },
  {
   "cell_type": "code",
   "execution_count": 113,
   "metadata": {},
   "outputs": [
    {
     "name": "stdout",
     "output_type": "stream",
     "text": [
      "Vapor Temperature, Tv = 55.08825738644433\n"
     ]
    }
   ],
   "source": [
    "Cp_e = PropsSI('C', 'T', Ti_e + 273.15, 'P', 101325, 'Water')  # Specific heat capacity (J/(kg·K))\n",
    "Cp_c = PropsSI('C', 'T', Ti_c + 273.15, 'P', 101325, 'Water')  # Specific heat capacity (J/(kg·K))\n",
    "\n",
    "Tv=(Ti_e*Cp_e+Ti_c*Cp_c)/(Cp_e+Cp_c)\n",
    "print(f\"Vapor Temperature, Tv = {Tv}\")"
   ]
  },
  {
   "cell_type": "markdown",
   "metadata": {},
   "source": [
    "### Evaporator Shell Hot Fluid"
   ]
  },
  {
   "cell_type": "code",
   "execution_count": 114,
   "metadata": {},
   "outputs": [
    {
     "name": "stdout",
     "output_type": "stream",
     "text": [
      "Properites of Water at 90 °C:\n",
      "\tρ_l = 968.6114401082684 kg/m³\n",
      "\tμ = 0.0003330754563272273 Pa·s\n",
      "\tPr = 2.088096210424027\n",
      "\tk = 0.6700671488300696\n"
     ]
    }
   ],
   "source": [
    "fluid = \"Water\"\n",
    "temperature = (Ti_e+To_e)/2 + 273.15  # Convert °C to K\n",
    "pressure = 101325  # Pressure in Pa (1 atm)\n",
    "\n",
    "#properties\n",
    "rho_e = PropsSI('D', 'T', temperature, 'P', pressure, fluid)  # Density in kg/m³\n",
    "mu_e = PropsSI('V', 'T', temperature, 'P', pressure, fluid)  # Dynamic viscosity (Pa·s)\n",
    "Cp_e = PropsSI('C', 'T', temperature, 'P', pressure, fluid)  # Specific heat capacity (J/(kg·K))\n",
    "k_e = PropsSI('L', 'T', temperature, 'P', pressure, fluid)  # Thermal conductivity (W/(m·K))\n",
    "Pr_e=PropsSI('PRANDTL', 'T', temperature, 'P', pressure, fluid) # Prandtl Number\n",
    "\n",
    "print(f\"Properites of {fluid} at {Ti_e} °C:\")\n",
    "print(f\"\\tρ_l = {rho_e} kg/m³\")\n",
    "print(f\"\\tμ = {mu_e} Pa·s\")\n",
    "print(f\"\\tPr = {Pr_e}\")\n",
    "print(f\"\\tk = {k_e}\")\n"
   ]
  },
  {
   "cell_type": "code",
   "execution_count": 115,
   "metadata": {},
   "outputs": [
    {
     "name": "stdout",
     "output_type": "stream",
     "text": [
      "Hot Shell fluid Velocity, Vs = 0.02191441726863351\n",
      "Renolds Number, Re_s = 1316.3647615642558\n",
      "Nusselt Number, Nu = 23.907983027994955\n",
      "Heat transfer coefficient, h_ex_e = 775.5716160857919\n",
      "Forced convection resistance over Evaporator, R1 = 0.010667179229727514\n",
      "Radial heat conduction resistance through Evaporator wall, R2 = 0.005160828877966428\n"
     ]
    }
   ],
   "source": [
    "Vs=m/(rho_e*As)\n",
    "print(f\"Hot Shell fluid Velocity, Vs = {Vs}\")\n",
    "\n",
    "Re_s=Vs*Dhs*rho_e/mu_e\n",
    "print(f\"Renolds Number, Re_s = {Re_s}\")\n",
    "\n",
    "Nu = 0.36*pow(Re_s,0.55)*pow(Pr_e,1/3)\n",
    "print(f\"Nusselt Number, Nu = {Nu}\")\n",
    "\n",
    "#coefficient of external heat transer over evaporator\n",
    "h_ex_e=Nu*k_e/Dhs\n",
    "print(f\"Heat transfer coefficient, h_ex_e = {h_ex_e}\")\n",
    "A_e=np.pi*tsp_od*l_e*Nt\n",
    "# Convection resistance over evaporator\n",
    "R1=1/(h_ex_e*A_e)\n",
    "print(f\"Forced convection resistance over Evaporator, R1 = {R1}\")\n",
    "\n",
    "r_e=tsp_od/2\n",
    "r_i=r_e-tsp_thick\n",
    "R2=np.log(r_e/r_i)/(2*np.pi*k_ss*l_e)\n",
    "print(f\"Radial heat conduction resistance through Evaporator wall, R2 = {R2}\")"
   ]
  },
  {
   "cell_type": "markdown",
   "metadata": {},
   "source": [
    "### Evaporator Thermosyphon\n"
   ]
  },
  {
   "cell_type": "code",
   "execution_count": 116,
   "metadata": {},
   "outputs": [
    {
     "name": "stdout",
     "output_type": "stream",
     "text": [
      "Properites of Water at 55.08825738644433 °C:\n",
      "\tρ_l = 985.6503289489771 kg/m³\n",
      "\tρ_v = 0.10497172066517207 kg/m³\n",
      "\tμ = 0.0005029178905094976 Pa·s\n",
      "\tPr = 3.2559358830523197\n",
      "\tk = 0.6461121543366464 W/mK\n",
      "Vapor Pressure, Pv = 15828.870700067382 Pa\n",
      "Latent heat of vaporization, h_lv = 2369623.4119260954 J/kg\n"
     ]
    }
   ],
   "source": [
    "#thermosyphon\n",
    "\n",
    "fluid = \"Water\"\n",
    "temperature = Tv + 273.15  # Convert °C to K\n",
    "pressure = 101325  # Pressure in Pa (1 atm)\n",
    "\n",
    "#properties\n",
    "rho_l_v = PropsSI('D', 'T', temperature, 'P', pressure, fluid)  # Density in kg/m³\n",
    "rho_v_v = PropsSI('D', 'T', temperature, 'Q', 1, fluid)  # Density in kg/m³ (Q=1 means saturated vapor)\n",
    "mu_l_v = PropsSI('V', 'T', temperature, 'P', pressure, fluid)  # Dynamic viscosity (Pa·s)\n",
    "Cp_l_v = PropsSI('C', 'T', temperature, 'P', pressure, fluid)  # Specific heat capacity (J/(kg·K))\n",
    "k_v = PropsSI('L', 'T', temperature, 'P', pressure, fluid)  # Thermal conductivity (W/(m·K))\n",
    "Pr_v=PropsSI('PRANDTL', 'T', temperature, 'P', pressure, fluid) # Prandtl Number\n",
    "P_v = PropsSI('P', 'T', temperature, 'Q', 0, fluid)  # 'Q=0' means saturated liquid\n",
    "h_lv = PropsSI('H', 'T', temperature, 'Q', 1, fluid) - PropsSI('H', 'T', temperature, 'Q', 0, fluid)\n",
    "\n",
    "\n",
    "\n",
    "print(f\"Properites of {fluid} at {Tv} °C:\")\n",
    "print(f\"\\tρ_l = {rho_l_v} kg/m³\")\n",
    "print(f\"\\tρ_v = {rho_v_v} kg/m³\")\n",
    "print(f\"\\tμ = {mu_l_v} Pa·s\")\n",
    "print(f\"\\tPr = {Pr_v}\")\n",
    "print(f\"\\tk = {k_v} W/mK\")\n",
    "print(f\"Vapor Pressure, Pv = {P_v} Pa\")\n",
    "print(f\"Latent heat of vaporization, h_lv = {h_lv} J/kg\")\n"
   ]
  },
  {
   "cell_type": "code",
   "execution_count": 117,
   "metadata": {},
   "outputs": [
    {
     "name": "stdout",
     "output_type": "stream",
     "text": [
      "Boiling thermal resistance, R3 = 1.3209187476402971e-05\n",
      "Evaporator Resistance, R_e = 0.015841217295170344\n"
     ]
    }
   ],
   "source": [
    "phi2=pow(h_lv*k_v*(rho_l_v**0.5)/mu_l_v,0.25)*(pow(rho_l_v,0.65)*pow(k_v,0.3)*pow(Cp_l_v,0.7))/(pow(rho_v_v,0.25)*pow(h_lv,0.4)*pow(mu_l_v,0.7))\n",
    "phi3=pow(P_v/101325,0.23)*(pow(rho_l_v,0.65)*pow(k_v,0.3)*pow(Cp_l_v,0.7))/(pow(rho_v_v,0.25)*pow(h_lv,0.4)*pow(mu_l_v,0.7))\n",
    "#thermal resistance associated to pool boiling\n",
    "R3p=1/((9.81**0.2)*phi3*(q_e**0.4)*pow(np.pi*tsp_id*l_e,0.6))\n",
    "#thermal resistance associated to falling film located above the evaporator pool\n",
    "R3f=0.345*pow(q_e,1/3)/(pow(tsp_id,4/3)*pow(9.81,1/3)*l_e*pow(phi2,4/3))\n",
    "R3=R3p*F+(1-F)*R3f\n",
    "print(f\"Boiling thermal resistance, R3 = {R3}\")\n",
    "R_e=R1+R2+R3\n",
    "print(f\"Evaporator Resistance, R_e = {R_e}\")"
   ]
  },
  {
   "cell_type": "markdown",
   "metadata": {},
   "source": [
    "### Evaluate_R_e Function"
   ]
  },
  {
   "cell_type": "code",
   "execution_count": 118,
   "metadata": {},
   "outputs": [],
   "source": [
    "def Evaluate_R_e(Ti_e, To_e):\n",
    "    #--------------------shell---------------\n",
    "    fluid = \"Water\"\n",
    "    temperature = (Ti_e+To_e)/2 + 273.15  # Convert °C to K\n",
    "    pressure = 101325  # Pressure in Pa (1 atm)\n",
    "\n",
    "    #properties\n",
    "    rho_e = PropsSI('D', 'T', temperature, 'P', pressure, fluid)  # Density in kg/m³\n",
    "    mu_e = PropsSI('V', 'T', temperature, 'P', pressure, fluid)  # Dynamic viscosity (Pa·s)\n",
    "    Cp_e = PropsSI('C', 'T', temperature, 'P', pressure, fluid)  # Specific heat capacity (J/(kg·K))\n",
    "    k_e = PropsSI('L', 'T', temperature, 'P', pressure, fluid)  # Thermal conductivity (W/(m·K))\n",
    "    Pr_e=PropsSI('PRANDTL', 'T', temperature, 'P', pressure, fluid) # Prandtl Number\n",
    "\n",
    "    # print(f\"Properites of {fluid} at {Ti_e} °C:\")\n",
    "    # print(f\"\\tρ_l = {rho_e} kg/m³\")\n",
    "    # print(f\"\\tμ = {mu_e} Pa·s\")\n",
    "    # print(f\"\\tPr = {Pr_e}\")\n",
    "    # print(f\"\\tk = {k_e}\")\n",
    "\n",
    "    Vs=m/(rho_e*As)\n",
    "    # print(f\"Hot Shell fluid Velocity, Vs = {Vs}\")\n",
    "\n",
    "    Re_s=Vs*Dhs*rho_e/mu_e\n",
    "    # print(f\"Renolds Number, Re_s = {Re_s}\")\n",
    "\n",
    "    Nu = 0.36*pow(Re_s,0.55)*pow(Pr_e,1/3)\n",
    "    # print(f\"Nusselt Number, Nu = {Nu}\")\n",
    "\n",
    "    #coefficient of external heat transer over evaporator\n",
    "    h_ex_e=Nu*k_e/Dhs\n",
    "    # print(f\"Heat transfer coefficient, h_ex_e = {h_ex_e}\")\n",
    "    A_e=np.pi*tsp_od*l_e*Nt\n",
    "    # Convection resistance over evaporator\n",
    "    R1=1/(h_ex_e*A_e)\n",
    "    # print(f\"Forced convection resistance over Evaporator, R1 = {R1}\")\n",
    "\n",
    "    r_e=tsp_od/2\n",
    "    r_i=r_e-tsp_thick\n",
    "    R2=np.log(r_e/r_i)/(2*np.pi*k_ss*l_e)\n",
    "    # print(f\"Radial heat conduction resistance through Evaporator wall, R2 = {R2}\")\n",
    "\n",
    "\n",
    "    #----------------------thermosyphon------------------\n",
    "    fluid = \"Water\"\n",
    "    temperature = Tv + 273.15  # Convert °C to K\n",
    "    pressure = 101325  # Pressure in Pa (1 atm)\n",
    "\n",
    "    #properties\n",
    "    rho_l_v = PropsSI('D', 'T', temperature, 'P', pressure, fluid)  # Density in kg/m³\n",
    "    rho_v_v = PropsSI('D', 'T', temperature, 'Q', 1, fluid)  # Density in kg/m³ (Q=1 means saturated vapor)\n",
    "    mu_l_v = PropsSI('V', 'T', temperature, 'P', pressure, fluid)  # Dynamic viscosity (Pa·s)\n",
    "    Cp_l_v = PropsSI('C', 'T', temperature, 'P', pressure, fluid)  # Specific heat capacity (J/(kg·K))\n",
    "    k_v = PropsSI('L', 'T', temperature, 'P', pressure, fluid)  # Thermal conductivity (W/(m·K))\n",
    "    Pr_v=PropsSI('PRANDTL', 'T', temperature, 'P', pressure, fluid) # Prandtl Number\n",
    "    P_v = PropsSI('P', 'T', temperature, 'Q', 0, fluid)  # 'Q=0' means saturated liquid\n",
    "    h_lv = PropsSI('H', 'T', temperature, 'Q', 1, fluid) - PropsSI('H', 'T', temperature, 'Q', 0, fluid)\n",
    "\n",
    "    # print(f\"Properites of {fluid} at {Tv} °C:\")\n",
    "    # print(f\"\\tρ_l = {rho_l_v} kg/m³\")\n",
    "    # print(f\"\\tρ_v = {rho_v_v} kg/m³\")\n",
    "    # print(f\"\\tμ = {mu_l_v} Pa·s\")\n",
    "    # print(f\"\\tPr = {Pr_v}\")\n",
    "    # print(f\"\\tk = {k_v} W/mK\")\n",
    "    # print(f\"Vapor Pressure, Pv = {P_v} Pa\")\n",
    "    # print(f\"Latent heat of vaporization, h_lv = {h_lv} J/kg\")\n",
    "\n",
    "    phi2=pow(h_lv*k_v*(rho_l_v**0.5)/mu_l_v,0.25)*(pow(rho_l_v,0.65)*pow(k_v,0.3)*pow(Cp_l_v,0.7))/(pow(rho_v_v,0.25)*pow(h_lv,0.4)*pow(mu_l_v,0.7))\n",
    "    phi3=pow(P_v/101325,0.23)*(pow(rho_l_v,0.65)*pow(k_v,0.3)*pow(Cp_l_v,0.7))/(pow(rho_v_v,0.25)*pow(h_lv,0.4)*pow(mu_l_v,0.7))\n",
    "    #thermal resistance associated to pool boiling\n",
    "    R3p=1/((9.81**0.2)*phi3*(q_e**0.4)*pow(np.pi*tsp_id*l_e,0.6))\n",
    "    #thermal resistance associated to falling film located above the evaporator pool\n",
    "    R3f=0.345*pow(q_e,1/3)/(pow(tsp_id,4/3)*pow(9.81,1/3)*l_e*pow(phi2,4/3))\n",
    "    R3=R3p*F+(1-F)*R3f\n",
    "    # print(f\"Boiling thermal resistance, R3 = {R3}\")\n",
    "    R_e=R1+R2+R3\n",
    "    # print(f\"Evaporator Resistance, R_e = {R_e}\")\n",
    "    return R_e\n",
    "    "
   ]
  },
  {
   "cell_type": "markdown",
   "metadata": {},
   "source": [
    "### Condenser Shell Cold Fluid"
   ]
  },
  {
   "cell_type": "code",
   "execution_count": 119,
   "metadata": {},
   "outputs": [
    {
     "name": "stdout",
     "output_type": "stream",
     "text": [
      "Properites of Water at 20 °C:\n",
      "\tρ_l = 997.047636760347 kg/m³\n",
      "\tρ_v = 0.02307480418276038 kg/m³\n",
      "\tμ = 0.0008900224890776964 Pa·s\n",
      "\tPr = 6.135804963909522\n",
      "\tk = 0.6065160802197994 W/mK\n",
      "Vapor Pressure, Pv = 3169.9293676106945 Pa\n",
      "Latent heat of vaporization, h_lv = 2441676.1749126264 J/kg\n"
     ]
    }
   ],
   "source": [
    "fluid = \"Water\"\n",
    "temperature = (Ti_c+To_c)/2 + 273.15  # Convert °C to K\n",
    "pressure = 101325  # Pressure in Pa (1 atm)\n",
    "\n",
    "#properties\n",
    "rho_l_c = PropsSI('D', 'T', temperature, 'P', pressure, fluid)  # Density in kg/m³\n",
    "rho_v_c = PropsSI('D', 'T', temperature, 'Q', 1, fluid)  # Density in kg/m³ (Q=1 means saturated vapor)\n",
    "mu_c = PropsSI('V', 'T', temperature, 'P', pressure, fluid)  # Dynamic viscosity (Pa·s)\n",
    "Cp_c = PropsSI('C', 'T', temperature, 'P', pressure, fluid)  # Specific heat capacity (J/(kg·K))\n",
    "k_c = PropsSI('L', 'T', temperature, 'P', pressure, fluid)  # Thermal conductivity (W/(m·K))\n",
    "Pr_c=PropsSI('PRANDTL', 'T', temperature, 'P', pressure, fluid) # Prandtl Number\n",
    "P_v_c = PropsSI('P', 'T', temperature, 'Q', 0, fluid)  # 'Q=0' means saturated liquid\n",
    "h_lv_c = PropsSI('H', 'T', temperature, 'Q', 1, fluid) - PropsSI('H', 'T', temperature, 'Q', 0, fluid)\n",
    "\n",
    "\n",
    "\n",
    "print(f\"Properites of {fluid} at {Ti_c} °C:\")\n",
    "print(f\"\\tρ_l = {rho_l_c} kg/m³\")\n",
    "print(f\"\\tρ_v = {rho_v_c} kg/m³\")\n",
    "print(f\"\\tμ = {mu_c} Pa·s\")\n",
    "print(f\"\\tPr = {Pr_c}\")\n",
    "print(f\"\\tk = {k_c} W/mK\")\n",
    "print(f\"Vapor Pressure, Pv = {P_v_c} Pa\")\n",
    "print(f\"Latent heat of vaporization, h_lv = {h_lv_c} J/kg\")"
   ]
  },
  {
   "cell_type": "code",
   "execution_count": 120,
   "metadata": {},
   "outputs": [
    {
     "name": "stdout",
     "output_type": "stream",
     "text": [
      "Condenser Shell Side Velocity, Vs = 0.021289409339231683\n",
      "Renolds Number, Re_s = 492.6266459912126\n",
      "Nusselt Number, Nu = 19.943950794471043\n",
      "Convection Heat transfer coefficient, h_ex_c = 585.6176465105275\n",
      "Forced convection resistance over Condenser, R9 = 0.014127240672430517\n",
      "Radial heat conduction resistance through Condenser wall, R8 = 0.005160828877966428\n"
     ]
    }
   ],
   "source": [
    "Vs=m/(rho_l_c*As)\n",
    "print(f\"Condenser Shell Side Velocity, Vs = {Vs}\")\n",
    "\n",
    "Re_s=Vs*Dhs*rho_l_c/mu_c\n",
    "print(f\"Renolds Number, Re_s = {Re_s}\")\n",
    "\n",
    "Nu = 0.36*pow(Re_s,0.55)*pow(Pr_c,1/3)\n",
    "print(f\"Nusselt Number, Nu = {Nu}\")\n",
    "\n",
    "r_e=tsp_od/2\n",
    "r_i=r_e-tsp_thick\n",
    "R8=np.log(r_e/r_i)/(2*np.pi*k_ss*l_c)\n",
    "\n",
    "#coefficient of external heat transer in evaporator\n",
    "h_ex_c=Nu*k_c/Dhs\n",
    "print(f\"Convection Heat transfer coefficient, h_ex_c = {h_ex_c}\")\n",
    "A_c=np.pi*tsp_od*l_c*Nt\n",
    "# Convection resistance in hot fluid\n",
    "R9=1/(h_ex_c*A_c)\n",
    "print(f\"Forced convection resistance over Condenser, R9 = {R9}\")\n",
    "print(f\"Radial heat conduction resistance through Condenser wall, R8 = {R8}\")"
   ]
  },
  {
   "cell_type": "markdown",
   "metadata": {},
   "source": [
    "### Condenser Thermosyphon"
   ]
  },
  {
   "cell_type": "code",
   "execution_count": 121,
   "metadata": {},
   "outputs": [
    {
     "name": "stdout",
     "output_type": "stream",
     "text": [
      "Condensation thermal resistance, R7 = 1.1385563128926466e-06\n",
      "Condenser Resistance, R_c = 0.019289208106709838\n"
     ]
    }
   ],
   "source": [
    "phi2=pow(h_lv*k_v*(rho_l_v**0.5)/mu_l_v,0.25)*(pow(rho_l_v,0.65)*pow(k_v,0.3)*pow(Cp_l_v,0.7))/(pow(rho_v_v,0.25)*pow(h_lv,0.4)*pow(mu_l_v,0.7))\n",
    "R7=0.345*pow(q_c,1/3)/(pow(tsp_id,4/3)*pow(9.81,1/3)*l_c*pow(phi2,4/3))\n",
    "print(f\"Condensation thermal resistance, R7 = {R7}\")\n",
    "\n",
    "R_c=R7+R8+R9\n",
    "print(f\"Condenser Resistance, R_c = {R_c}\")"
   ]
  },
  {
   "cell_type": "code",
   "execution_count": 122,
   "metadata": {},
   "outputs": [
    {
     "name": "stdout",
     "output_type": "stream",
     "text": [
      "Total thermal resistance, R_total = 0.03513042540188018\n"
     ]
    }
   ],
   "source": [
    "R_total=R_e+R_c\n",
    "print(f\"Total thermal resistance, R_total = {R_total}\")"
   ]
  },
  {
   "cell_type": "markdown",
   "metadata": {},
   "source": [
    "### Evaluate_R_c Function"
   ]
  },
  {
   "cell_type": "code",
   "execution_count": 123,
   "metadata": {},
   "outputs": [],
   "source": [
    "def Evaluate_R_c(Ti_c, To_c):\n",
    "    fluid = \"Water\"\n",
    "    temperature = (Ti_c+To_c)/2 + 273.15  # Convert °C to K\n",
    "    pressure = 101325  # Pressure in Pa (1 atm)\n",
    "\n",
    "    #properties\n",
    "    rho_l_c = PropsSI('D', 'T', temperature, 'P', pressure, fluid)  # Density in kg/m³\n",
    "    rho_v_c = PropsSI('D', 'T', temperature, 'Q', 1, fluid)  # Density in kg/m³ (Q=1 means saturated vapor)\n",
    "    mu_c = PropsSI('V', 'T', temperature, 'P', pressure, fluid)  # Dynamic viscosity (Pa·s)\n",
    "    Cp_c = PropsSI('C', 'T', temperature, 'P', pressure, fluid)  # Specific heat capacity (J/(kg·K))\n",
    "    k_c = PropsSI('L', 'T', temperature, 'P', pressure, fluid)  # Thermal conductivity (W/(m·K))\n",
    "    Pr_c=PropsSI('PRANDTL', 'T', temperature, 'P', pressure, fluid) # Prandtl Number\n",
    "    P_v_c = PropsSI('P', 'T', temperature, 'Q', 0, fluid)  # 'Q=0' means saturated liquid\n",
    "    h_lv_c = PropsSI('H', 'T', temperature, 'Q', 1, fluid) - PropsSI('H', 'T', temperature, 'Q', 0, fluid)\n",
    "\n",
    "    # print(f\"Properites of {fluid} at {Ti_c} °C:\")\n",
    "    # print(f\"\\tρ_l = {rho_l_c} kg/m³\")\n",
    "    # print(f\"\\tρ_v = {rho_v_c} kg/m³\")\n",
    "    # print(f\"\\tμ = {mu_c} Pa·s\")\n",
    "    # print(f\"\\tPr = {Pr_c}\")\n",
    "    # print(f\"\\tk = {k_c} W/mK\")\n",
    "    # print(f\"Vapor Pressure, Pv = {P_v_c} Pa\")\n",
    "    # print(f\"Latent heat of vaporization, h_lv = {h_lv_c} J/kg\")\n",
    "\n",
    "    Vs=m/(rho_l_c*As)\n",
    "    # print(f\"Condenser Shell Side Velocity, Vs = {Vs}\")\n",
    "\n",
    "    Re_s=Vs*Dhs*rho_l_c/mu_c\n",
    "    # print(f\"Renolds Number, Re_s = {Re_s}\")\n",
    "\n",
    "    Nu = 0.36*pow(Re_s,0.55)*pow(Pr_c,1/3)\n",
    "    # print(f\"Nusselt Number, Nu = {Nu}\")\n",
    "\n",
    "    r_e=tsp_od/2\n",
    "    r_i=r_e-tsp_thick\n",
    "    R8=np.log(r_e/r_i)/(2*np.pi*k_ss*l_c)\n",
    "\n",
    "    #coefficient of external heat transer in evaporator\n",
    "    h_ex_c=Nu*k_c/Dhs\n",
    "    # print(f\"Convection Heat transfer coefficient, h_ex_c = {h_ex_c}\")\n",
    "    A_c=np.pi*tsp_od*l_c*Nt\n",
    "    # Convection resistance in hot fluid\n",
    "    R9=1/(h_ex_c*A_c)\n",
    "    # print(f\"Forced convection resistance over Condenser, R9 = {R9}\")\n",
    "    # print(f\"Radial heat conduction resistance through Condenser wall, R8 = {R8}\")\n",
    "\n",
    "\n",
    "        #----------------------thermosyphon------------------\n",
    "    fluid = \"Water\"\n",
    "    temperature = Tv + 273.15  # Convert °C to K\n",
    "    pressure = 101325  # Pressure in Pa (1 atm)\n",
    "\n",
    "    #properties\n",
    "    rho_l_v = PropsSI('D', 'T', temperature, 'P', pressure, fluid)  # Density in kg/m³\n",
    "    rho_v_v = PropsSI('D', 'T', temperature, 'Q', 1, fluid)  # Density in kg/m³ (Q=1 means saturated vapor)\n",
    "    mu_l_v = PropsSI('V', 'T', temperature, 'P', pressure, fluid)  # Dynamic viscosity (Pa·s)\n",
    "    Cp_l_v = PropsSI('C', 'T', temperature, 'P', pressure, fluid)  # Specific heat capacity (J/(kg·K))\n",
    "    k_v = PropsSI('L', 'T', temperature, 'P', pressure, fluid)  # Thermal conductivity (W/(m·K))\n",
    "    Pr_v=PropsSI('PRANDTL', 'T', temperature, 'P', pressure, fluid) # Prandtl Number\n",
    "    P_v = PropsSI('P', 'T', temperature, 'Q', 0, fluid)  # 'Q=0' means saturated liquid\n",
    "    h_lv = PropsSI('H', 'T', temperature, 'Q', 1, fluid) - PropsSI('H', 'T', temperature, 'Q', 0, fluid)\n",
    "\n",
    "    # print(f\"Properites of {fluid} at {Tv} °C:\")\n",
    "    # print(f\"\\tρ_l = {rho_l_v} kg/m³\")\n",
    "    # print(f\"\\tρ_v = {rho_v_v} kg/m³\")\n",
    "    # print(f\"\\tμ = {mu_l_v} Pa·s\")\n",
    "    # print(f\"\\tPr = {Pr_v}\")\n",
    "    # print(f\"\\tk = {k_v} W/mK\")\n",
    "    # print(f\"Vapor Pressure, Pv = {P_v} Pa\")\n",
    "    # print(f\"Latent heat of vaporization, h_lv = {h_lv} J/kg\")\n",
    "\n",
    "    phi2=pow(h_lv*k_v*(rho_l_v**0.5)/mu_l_v,0.25)*(pow(rho_l_v,0.65)*pow(k_v,0.3)*pow(Cp_l_v,0.7))/(pow(rho_v_v,0.25)*pow(h_lv,0.4)*pow(mu_l_v,0.7))\n",
    "    R7=0.345*pow(q_c,1/3)/(pow(tsp_id,4/3)*pow(9.81,1/3)*l_c*pow(phi2,4/3))\n",
    "    # print(f\"Condensation thermal resistance, R7 = {R7}\")\n",
    "\n",
    "    R_c=R7+R8+R9\n",
    "    # print(f\"Condenser Resistance, R_c = {R_c}\")\n",
    "    return R_c\n",
    "    "
   ]
  },
  {
   "cell_type": "markdown",
   "metadata": {},
   "source": [
    "### Optimization "
   ]
  },
  {
   "cell_type": "code",
   "execution_count": 124,
   "metadata": {},
   "outputs": [
    {
     "name": "stdout",
     "output_type": "stream",
     "text": [
      "q_e = 1870.5026166179407\n",
      "q_c = 1545.3835452337464\n"
     ]
    }
   ],
   "source": [
    "q_th=q_hx/Nt\n",
    "Tavg_e=Tv-(((Tv-Ti_e)-(Tv-To_e))/np.log((Tv-Ti_e)/(Tv-To_e)))\n",
    "Tavg_c=Tv-(((Tv-Ti_c)-(Tv-To_c))/np.log((Tv-Ti_c)/(Tv-To_c)))\n",
    "q_e=(Tavg_e-Tv)/R_e\n",
    "q_c=(Tv-Tavg_c)/R_c\n",
    "print(f\"q_e = {q_e}\")\n",
    "print(f\"q_c = {q_c}\")"
   ]
  },
  {
   "cell_type": "code",
   "execution_count": 125,
   "metadata": {},
   "outputs": [
    {
     "data": {
      "text/plain": [
       "0.1738137485057587"
      ]
     },
     "execution_count": 125,
     "metadata": {},
     "output_type": "execute_result"
    }
   ],
   "source": [
    "#tolerance\n",
    "alpha=abs(1-q_c/q_e)\n",
    "alpha"
   ]
  },
  {
   "cell_type": "code",
   "execution_count": 126,
   "metadata": {},
   "outputs": [
    {
     "name": "stdout",
     "output_type": "stream",
     "text": [
      "iteration 0: α = 3.97%  q_hx = 1431.06 W\n",
      "iteration 1: α = 5.28%  q_hx = 1834.50 W\n",
      "iteration 2: α = 0.54%  q_hx = 1793.46 W\n",
      "iteration 3: α = 0.06%  q_hx = 1797.68 W\n"
     ]
    }
   ],
   "source": [
    "i=0\n",
    "while(alpha>0.1/100 and i<50):\n",
    "    To_e=Ti_e-q_hx/(m*Cp_e)\n",
    "    To_c=Ti_c+q_hx/(m*Cp_c)\n",
    "    # print(f\"To_e = {To_e}\")\n",
    "    # print(f\"To_c = {To_c}\")\n",
    "    \n",
    "    R_e=Evaluate_R_e(Ti_e,To_e)\n",
    "    R_c=Evaluate_R_c(Ti_c,To_c)\n",
    "    R_total = R_e+R_c\n",
    "\n",
    "    Tv=(R_c*Tavg_e+R_e*Tavg_c)/(R_e+R_c)\n",
    "    # print(f\"Tv = {Tv}\")\n",
    "    Tavg_e=Tv-(((Tv-Ti_e)-(Tv-To_e))/np.log((Tv-Ti_e)/(Tv-To_e)))\n",
    "    Tavg_c=Tv-(((Tv-Ti_c)-(Tv-To_c))/np.log((Tv-Ti_c)/(Tv-To_c)))\n",
    "\n",
    "    q_hx=(Tavg_e-Tavg_c)/R_total\n",
    "    q_th=q_hx/Nt\n",
    "\n",
    "    q_e=(Tavg_e-Tv)/R_e\n",
    "    q_c=(Tv-Tavg_c)/R_c\n",
    "    alpha=abs(1-q_c/q_e)\n",
    "    print(f'iteration {i}: α = {alpha*100:.2f}%  q_hx = {q_hx:.2f} W')\n",
    "    i+=1"
   ]
  },
  {
   "cell_type": "code",
   "execution_count": 127,
   "metadata": {},
   "outputs": [
    {
     "name": "stdout",
     "output_type": "stream",
     "text": [
      "Evaporator Outlet Temperature: 83.58\n",
      "Condensor Outlet Temperature: 26.45\n"
     ]
    }
   ],
   "source": [
    "To_e=Ti_e-q_hx/(m*Cp_e)\n",
    "To_c=Ti_c+q_hx/(m*Cp_c)\n",
    "print(f\"Evaporator Outlet Temperature: {To_e:.2f}\")\n",
    "print(f\"Condensor Outlet Temperature: {To_c:.2f}\")"
   ]
  }
 ],
 "metadata": {
  "kernelspec": {
   "display_name": "Python 3",
   "language": "python",
   "name": "python3"
  },
  "language_info": {
   "codemirror_mode": {
    "name": "ipython",
    "version": 3
   },
   "file_extension": ".py",
   "mimetype": "text/x-python",
   "name": "python",
   "nbconvert_exporter": "python",
   "pygments_lexer": "ipython3",
   "version": "3.11.6"
  }
 },
 "nbformat": 4,
 "nbformat_minor": 2
}
