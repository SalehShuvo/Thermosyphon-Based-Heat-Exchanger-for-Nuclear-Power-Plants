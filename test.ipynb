{
 "cells": [
  {
   "cell_type": "code",
   "execution_count": 11,
   "metadata": {},
   "outputs": [],
   "source": [
    "import CoolProp.CoolProp as CP\n"
   ]
  },
  {
   "cell_type": "code",
   "execution_count": 15,
   "metadata": {},
   "outputs": [
    {
     "name": "stdout",
     "output_type": "stream",
     "text": [
      "1-Butene,Acetone,Air,Ammonia,Argon,Benzene,CarbonDioxide,CarbonMonoxide,CarbonylSulfide,cis-2-Butene,CycloHexane,Cyclopentane,CycloPropane,D4,D5,D6,Deuterium,Dichloroethane,DiethylEther,DimethylCarbonate,DimethylEther,Ethane,Ethanol,EthylBenzene,Ethylene,EthyleneOxide,Fluorine,HeavyWater,Helium,HFE143m,Hydrogen,HydrogenChloride,HydrogenSulfide,IsoButane,IsoButene,Isohexane,Isopentane,Krypton,m-Xylene,MD2M,MD3M,MD4M,MDM,Methane,Methanol,MethylLinoleate,MethylLinolenate,MethylOleate,MethylPalmitate,MethylStearate,MM,n-Butane,n-Decane,n-Dodecane,n-Heptane,n-Hexane,n-Nonane,n-Octane,n-Pentane,n-Propane,n-Undecane,Neon,Neopentane,Nitrogen,NitrousOxide,Novec649,o-Xylene,OrthoDeuterium,OrthoHydrogen,Oxygen,p-Xylene,ParaDeuterium,ParaHydrogen,Propylene,Propyne,R11,R113,R114,R115,R116,R12,R123,R1233zd(E),R1234yf,R1234ze(E),R1234ze(Z),R124,R1243zf,R125,R13,R134a,R13I1,R14,R141b,R142b,R143a,R152A,R161,R21,R218,R22,R227EA,R23,R236EA,R236FA,R245ca,R245fa,R32,R365MFC,R40,R404A,R407C,R41,R410A,R507A,RC318,SES36,SulfurDioxide,SulfurHexafluoride,Toluene,trans-2-Butene,Water,Xenon\n"
     ]
    }
   ],
   "source": [
    "from CoolProp.CoolProp import get_global_param_string\n",
    "print(get_global_param_string(\"fluids_list\"))\n"
   ]
  },
  {
   "cell_type": "code",
   "execution_count": 30,
   "metadata": {},
   "outputs": [
    {
     "name": "stdout",
     "output_type": "stream",
     "text": [
      "Properites of Methane at 20.0 °C & 101325 Pa:\n",
      "Density: 0.6681598207426501 kg/m³\n",
      "Viscosity: 1.1037057482482261e-05 Pa·s\n",
      "Prandtl Number: 0.7327550018086525\n",
      "Thermal Conductivity: 0.03344755821755676\n",
      "Specific Heat Capacity: 2220.597801642391 J/(kg·K)\n"
     ]
    }
   ],
   "source": [
    "T_i=20 #°C\n",
    "T_o=20 #°C\n",
    "T_f=(T_i+T_o)/2\n",
    "\n",
    "fluid = \"Methane\"\n",
    "temperature = T_f + 273.15  # Convert °C to Kelvin\n",
    "pressure = 101325  # Pressure in Pa (1 atm)\n",
    "\n",
    "#properties\n",
    "density = CP.PropsSI('D', 'T', temperature, 'P', pressure, fluid)  # Density in kg/m³\n",
    "viscosity = CP.PropsSI('V', 'T', temperature, 'P', pressure, fluid)  # Dynamic viscosity (Pa·s)\n",
    "C = CP.PropsSI('C', 'T', temperature, 'P', pressure, fluid)  # Specific heat capacity (J/(kg·K))\n",
    "k = CP.PropsSI('L', 'T', temperature, 'P', pressure, fluid)  # Thermal conductivity (W/(m·K))\n",
    "Pr=CP.PropsSI('PRANDTL', 'T', temperature, 'P', pressure, fluid) # Prandtl Number\n",
    "\n",
    "print(f\"Properites of {fluid} at {T_f} °C & {pressure} Pa:\")\n",
    "print(f\"Density: {density} kg/m³\")\n",
    "print(f\"Viscosity: {viscosity} Pa·s\")\n",
    "print(f\"Prandtl Number: {Pr}\")\n",
    "print(f\"Thermal Conductivity: {k}\")\n",
    "print(f\"Specific Heat Capacity: {C} J/(kg·K)\")\n"
   ]
  }
 ],
 "metadata": {
  "kernelspec": {
   "display_name": "Python 3",
   "language": "python",
   "name": "python3"
  },
  "language_info": {
   "codemirror_mode": {
    "name": "ipython",
    "version": 3
   },
   "file_extension": ".py",
   "mimetype": "text/x-python",
   "name": "python",
   "nbconvert_exporter": "python",
   "pygments_lexer": "ipython3",
   "version": "3.11.6"
  }
 },
 "nbformat": 4,
 "nbformat_minor": 2
}
