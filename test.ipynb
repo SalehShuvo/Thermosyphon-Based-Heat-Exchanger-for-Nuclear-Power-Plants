{
 "cells": [
  {
   "cell_type": "code",
   "execution_count": 7,
   "metadata": {},
   "outputs": [],
   "source": [
    "import CoolProp.CoolProp as CP\n"
   ]
  },
  {
   "cell_type": "code",
   "execution_count": null,
   "metadata": {},
   "outputs": [
    {
     "ename": "ValueError",
     "evalue": "Initialize failed for backend: \"?\", fluid: \"Vapour\" fractions \"[ 1.0000000000 ]\"; error: key [Vapour] was not found in string_to_index_map in JSONFluidLibrary : PropsSI(\"D\",\"T\",308.15,\"P\",7380,\"Vapour\")",
     "output_type": "error",
     "traceback": [
      "\u001b[1;31m---------------------------------------------------------------------------\u001b[0m",
      "\u001b[1;31mValueError\u001b[0m                                Traceback (most recent call last)",
      "Cell \u001b[1;32mIn[9], line 10\u001b[0m\n\u001b[0;32m      7\u001b[0m pressure \u001b[38;5;241m=\u001b[39m \u001b[38;5;241m7380\u001b[39m  \u001b[38;5;66;03m# Pressure in Pa (1 atm)\u001b[39;00m\n\u001b[0;32m      9\u001b[0m \u001b[38;5;66;03m#properties\u001b[39;00m\n\u001b[1;32m---> 10\u001b[0m density \u001b[38;5;241m=\u001b[39m \u001b[43mCP\u001b[49m\u001b[38;5;241;43m.\u001b[39;49m\u001b[43mPropsSI\u001b[49m\u001b[43m(\u001b[49m\u001b[38;5;124;43m'\u001b[39;49m\u001b[38;5;124;43mD\u001b[39;49m\u001b[38;5;124;43m'\u001b[39;49m\u001b[43m,\u001b[49m\u001b[43m \u001b[49m\u001b[38;5;124;43m'\u001b[39;49m\u001b[38;5;124;43mT\u001b[39;49m\u001b[38;5;124;43m'\u001b[39;49m\u001b[43m,\u001b[49m\u001b[43m \u001b[49m\u001b[43mtemperature\u001b[49m\u001b[43m,\u001b[49m\u001b[43m \u001b[49m\u001b[38;5;124;43m'\u001b[39;49m\u001b[38;5;124;43mP\u001b[39;49m\u001b[38;5;124;43m'\u001b[39;49m\u001b[43m,\u001b[49m\u001b[43m \u001b[49m\u001b[43mpressure\u001b[49m\u001b[43m,\u001b[49m\u001b[43m \u001b[49m\u001b[43mfluid\u001b[49m\u001b[43m)\u001b[49m  \u001b[38;5;66;03m# Density in kg/m³\u001b[39;00m\n\u001b[0;32m     11\u001b[0m viscosity \u001b[38;5;241m=\u001b[39m CP\u001b[38;5;241m.\u001b[39mPropsSI(\u001b[38;5;124m'\u001b[39m\u001b[38;5;124mV\u001b[39m\u001b[38;5;124m'\u001b[39m, \u001b[38;5;124m'\u001b[39m\u001b[38;5;124mT\u001b[39m\u001b[38;5;124m'\u001b[39m, temperature, \u001b[38;5;124m'\u001b[39m\u001b[38;5;124mP\u001b[39m\u001b[38;5;124m'\u001b[39m, pressure, fluid)  \u001b[38;5;66;03m# Dynamic viscosity (Pa·s)\u001b[39;00m\n\u001b[0;32m     12\u001b[0m C \u001b[38;5;241m=\u001b[39m CP\u001b[38;5;241m.\u001b[39mPropsSI(\u001b[38;5;124m'\u001b[39m\u001b[38;5;124mC\u001b[39m\u001b[38;5;124m'\u001b[39m, \u001b[38;5;124m'\u001b[39m\u001b[38;5;124mT\u001b[39m\u001b[38;5;124m'\u001b[39m, temperature, \u001b[38;5;124m'\u001b[39m\u001b[38;5;124mP\u001b[39m\u001b[38;5;124m'\u001b[39m, pressure, fluid)  \u001b[38;5;66;03m# Specific heat capacity (J/(kg·K))\u001b[39;00m\n",
      "File \u001b[1;32mCoolProp\\\\CoolProp.pyx:391\u001b[0m, in \u001b[0;36mCoolProp.CoolProp.PropsSI\u001b[1;34m()\u001b[0m\n",
      "File \u001b[1;32mCoolProp\\\\CoolProp.pyx:471\u001b[0m, in \u001b[0;36mCoolProp.CoolProp.PropsSI\u001b[1;34m()\u001b[0m\n",
      "File \u001b[1;32mCoolProp\\\\CoolProp.pyx:358\u001b[0m, in \u001b[0;36mCoolProp.CoolProp.__Props_err2\u001b[1;34m()\u001b[0m\n",
      "\u001b[1;31mValueError\u001b[0m: Initialize failed for backend: \"?\", fluid: \"Vapour\" fractions \"[ 1.0000000000 ]\"; error: key [Vapour] was not found in string_to_index_map in JSONFluidLibrary : PropsSI(\"D\",\"T\",308.15,\"P\",7380,\"Vapour\")"
     ]
    }
   ],
   "source": [
    "T_i=30 #°C\n",
    "T_f=40 #°C\n",
    "T_f=(T_i+T_f)/2\n",
    "\n",
    "fluid = \"Water\"\n",
    "temperature = T_f + 273.15  # Convert °C to Kelvin\n",
    "pressure = 7380  # Pressure in Pa (1 atm)\n",
    "\n",
    "#properties\n",
    "density = CP.PropsSI('D', 'T', temperature, 'P', pressure, fluid)  # Density in kg/m³\n",
    "viscosity = CP.PropsSI('V', 'T', temperature, 'P', pressure, fluid)  # Dynamic viscosity (Pa·s)\n",
    "C = CP.PropsSI('C', 'T', temperature, 'P', pressure, fluid)  # Specific heat capacity (J/(kg·K))\n",
    "k = CP.PropsSI('L', 'T', temperature, 'P', pressure, fluid)  # Thermal conductivity (W/(m·K))\n",
    "Pr=CP.PropsSI('PRANDTL', 'T', temperature, 'P', pressure, fluid) # Prandtl Number\n",
    "\n",
    "print(f\"Properites of {fluid} at {T_f} °C:\")\n",
    "print(f\"Density: {density} kg/m³\")\n",
    "print(f\"Viscosity: {viscosity} Pa·s\")\n",
    "print(f\"Prandtl Number: {Pr}\")\n",
    "print(f\"Thermal Conductivity: {k}\")\n",
    "print(f\"Specific Heat Capacity: {C} J/(kg·K)\")\n"
   ]
  }
 ],
 "metadata": {
  "kernelspec": {
   "display_name": "Python 3",
   "language": "python",
   "name": "python3"
  },
  "language_info": {
   "codemirror_mode": {
    "name": "ipython",
    "version": 3
   },
   "file_extension": ".py",
   "mimetype": "text/x-python",
   "name": "python",
   "nbconvert_exporter": "python",
   "pygments_lexer": "ipython3",
   "version": "3.11.6"
  }
 },
 "nbformat": 4,
 "nbformat_minor": 2
}
